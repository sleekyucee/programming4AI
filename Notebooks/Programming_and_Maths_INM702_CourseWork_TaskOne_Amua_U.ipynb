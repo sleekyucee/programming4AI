{
 "cells": [
  {
   "cell_type": "markdown",
   "id": "51583d5d",
   "metadata": {},
   "source": [
    "## Import Necessary Libraries"
   ]
  },
  {
   "cell_type": "code",
   "execution_count": 1,
   "id": "1ac9aa59",
   "metadata": {},
   "outputs": [],
   "source": [
    "#import libraries\n",
    "import pandas as pd\n",
    "import numpy as np\n",
    "\n",
    "import matplotlib.pyplot as plt"
   ]
  },
  {
   "cell_type": "markdown",
   "id": "a94a3221",
   "metadata": {},
   "source": [
    "## Data Loading, Exploration and Preprocessing"
   ]
  },
  {
   "cell_type": "code",
   "execution_count": 3,
   "id": "c4f4e622",
   "metadata": {},
   "outputs": [],
   "source": [
    "#load train data\n",
    "train_df = pd.read_csv(\"../Datasets/train.csv\")"
   ]
  },
  {
   "cell_type": "code",
   "execution_count": 5,
   "id": "0fb15ae3",
   "metadata": {},
   "outputs": [
    {
     "name": "stdout",
     "output_type": "stream",
     "text": [
      "The train data contains 103904 rows and 25 columns.\n"
     ]
    }
   ],
   "source": [
    "#check shape of train data\n",
    "train_df.shape\n",
    "print(f\"The train data contains {train_df.shape[0]} rows and {train_df.shape[1]} columns.\")"
   ]
  },
  {
   "cell_type": "code",
   "execution_count": 7,
   "id": "661073f6",
   "metadata": {},
   "outputs": [
    {
     "data": {
      "text/html": [
       "<div>\n",
       "<style scoped>\n",
       "    .dataframe tbody tr th:only-of-type {\n",
       "        vertical-align: middle;\n",
       "    }\n",
       "\n",
       "    .dataframe tbody tr th {\n",
       "        vertical-align: top;\n",
       "    }\n",
       "\n",
       "    .dataframe thead th {\n",
       "        text-align: right;\n",
       "    }\n",
       "</style>\n",
       "<table border=\"1\" class=\"dataframe\">\n",
       "  <thead>\n",
       "    <tr style=\"text-align: right;\">\n",
       "      <th></th>\n",
       "      <th>Unnamed: 0</th>\n",
       "      <th>id</th>\n",
       "      <th>Gender</th>\n",
       "      <th>Customer Type</th>\n",
       "      <th>Age</th>\n",
       "      <th>Type of Travel</th>\n",
       "      <th>Class</th>\n",
       "      <th>Flight Distance</th>\n",
       "      <th>Inflight wifi service</th>\n",
       "      <th>Departure/Arrival time convenient</th>\n",
       "      <th>...</th>\n",
       "      <th>Inflight entertainment</th>\n",
       "      <th>On-board service</th>\n",
       "      <th>Leg room service</th>\n",
       "      <th>Baggage handling</th>\n",
       "      <th>Checkin service</th>\n",
       "      <th>Inflight service</th>\n",
       "      <th>Cleanliness</th>\n",
       "      <th>Departure Delay in Minutes</th>\n",
       "      <th>Arrival Delay in Minutes</th>\n",
       "      <th>satisfaction</th>\n",
       "    </tr>\n",
       "  </thead>\n",
       "  <tbody>\n",
       "    <tr>\n",
       "      <th>0</th>\n",
       "      <td>0</td>\n",
       "      <td>70172</td>\n",
       "      <td>Male</td>\n",
       "      <td>Loyal Customer</td>\n",
       "      <td>13</td>\n",
       "      <td>Personal Travel</td>\n",
       "      <td>Eco Plus</td>\n",
       "      <td>460</td>\n",
       "      <td>3</td>\n",
       "      <td>4</td>\n",
       "      <td>...</td>\n",
       "      <td>5</td>\n",
       "      <td>4</td>\n",
       "      <td>3</td>\n",
       "      <td>4</td>\n",
       "      <td>4</td>\n",
       "      <td>5</td>\n",
       "      <td>5</td>\n",
       "      <td>25</td>\n",
       "      <td>18.0</td>\n",
       "      <td>neutral or dissatisfied</td>\n",
       "    </tr>\n",
       "    <tr>\n",
       "      <th>1</th>\n",
       "      <td>1</td>\n",
       "      <td>5047</td>\n",
       "      <td>Male</td>\n",
       "      <td>disloyal Customer</td>\n",
       "      <td>25</td>\n",
       "      <td>Business travel</td>\n",
       "      <td>Business</td>\n",
       "      <td>235</td>\n",
       "      <td>3</td>\n",
       "      <td>2</td>\n",
       "      <td>...</td>\n",
       "      <td>1</td>\n",
       "      <td>1</td>\n",
       "      <td>5</td>\n",
       "      <td>3</td>\n",
       "      <td>1</td>\n",
       "      <td>4</td>\n",
       "      <td>1</td>\n",
       "      <td>1</td>\n",
       "      <td>6.0</td>\n",
       "      <td>neutral or dissatisfied</td>\n",
       "    </tr>\n",
       "    <tr>\n",
       "      <th>2</th>\n",
       "      <td>2</td>\n",
       "      <td>110028</td>\n",
       "      <td>Female</td>\n",
       "      <td>Loyal Customer</td>\n",
       "      <td>26</td>\n",
       "      <td>Business travel</td>\n",
       "      <td>Business</td>\n",
       "      <td>1142</td>\n",
       "      <td>2</td>\n",
       "      <td>2</td>\n",
       "      <td>...</td>\n",
       "      <td>5</td>\n",
       "      <td>4</td>\n",
       "      <td>3</td>\n",
       "      <td>4</td>\n",
       "      <td>4</td>\n",
       "      <td>4</td>\n",
       "      <td>5</td>\n",
       "      <td>0</td>\n",
       "      <td>0.0</td>\n",
       "      <td>satisfied</td>\n",
       "    </tr>\n",
       "    <tr>\n",
       "      <th>3</th>\n",
       "      <td>3</td>\n",
       "      <td>24026</td>\n",
       "      <td>Female</td>\n",
       "      <td>Loyal Customer</td>\n",
       "      <td>25</td>\n",
       "      <td>Business travel</td>\n",
       "      <td>Business</td>\n",
       "      <td>562</td>\n",
       "      <td>2</td>\n",
       "      <td>5</td>\n",
       "      <td>...</td>\n",
       "      <td>2</td>\n",
       "      <td>2</td>\n",
       "      <td>5</td>\n",
       "      <td>3</td>\n",
       "      <td>1</td>\n",
       "      <td>4</td>\n",
       "      <td>2</td>\n",
       "      <td>11</td>\n",
       "      <td>9.0</td>\n",
       "      <td>neutral or dissatisfied</td>\n",
       "    </tr>\n",
       "    <tr>\n",
       "      <th>4</th>\n",
       "      <td>4</td>\n",
       "      <td>119299</td>\n",
       "      <td>Male</td>\n",
       "      <td>Loyal Customer</td>\n",
       "      <td>61</td>\n",
       "      <td>Business travel</td>\n",
       "      <td>Business</td>\n",
       "      <td>214</td>\n",
       "      <td>3</td>\n",
       "      <td>3</td>\n",
       "      <td>...</td>\n",
       "      <td>3</td>\n",
       "      <td>3</td>\n",
       "      <td>4</td>\n",
       "      <td>4</td>\n",
       "      <td>3</td>\n",
       "      <td>3</td>\n",
       "      <td>3</td>\n",
       "      <td>0</td>\n",
       "      <td>0.0</td>\n",
       "      <td>satisfied</td>\n",
       "    </tr>\n",
       "  </tbody>\n",
       "</table>\n",
       "<p>5 rows × 25 columns</p>\n",
       "</div>"
      ],
      "text/plain": [
       "   Unnamed: 0      id  Gender      Customer Type  Age   Type of Travel  \\\n",
       "0           0   70172    Male     Loyal Customer   13  Personal Travel   \n",
       "1           1    5047    Male  disloyal Customer   25  Business travel   \n",
       "2           2  110028  Female     Loyal Customer   26  Business travel   \n",
       "3           3   24026  Female     Loyal Customer   25  Business travel   \n",
       "4           4  119299    Male     Loyal Customer   61  Business travel   \n",
       "\n",
       "      Class  Flight Distance  Inflight wifi service  \\\n",
       "0  Eco Plus              460                      3   \n",
       "1  Business              235                      3   \n",
       "2  Business             1142                      2   \n",
       "3  Business              562                      2   \n",
       "4  Business              214                      3   \n",
       "\n",
       "   Departure/Arrival time convenient  ...  Inflight entertainment  \\\n",
       "0                                  4  ...                       5   \n",
       "1                                  2  ...                       1   \n",
       "2                                  2  ...                       5   \n",
       "3                                  5  ...                       2   \n",
       "4                                  3  ...                       3   \n",
       "\n",
       "   On-board service  Leg room service  Baggage handling  Checkin service  \\\n",
       "0                 4                 3                 4                4   \n",
       "1                 1                 5                 3                1   \n",
       "2                 4                 3                 4                4   \n",
       "3                 2                 5                 3                1   \n",
       "4                 3                 4                 4                3   \n",
       "\n",
       "   Inflight service  Cleanliness  Departure Delay in Minutes  \\\n",
       "0                 5            5                          25   \n",
       "1                 4            1                           1   \n",
       "2                 4            5                           0   \n",
       "3                 4            2                          11   \n",
       "4                 3            3                           0   \n",
       "\n",
       "   Arrival Delay in Minutes             satisfaction  \n",
       "0                      18.0  neutral or dissatisfied  \n",
       "1                       6.0  neutral or dissatisfied  \n",
       "2                       0.0                satisfied  \n",
       "3                       9.0  neutral or dissatisfied  \n",
       "4                       0.0                satisfied  \n",
       "\n",
       "[5 rows x 25 columns]"
      ]
     },
     "execution_count": 7,
     "metadata": {},
     "output_type": "execute_result"
    }
   ],
   "source": [
    "#display first 5 rows\n",
    "train_df[:5]"
   ]
  },
  {
   "cell_type": "code",
   "execution_count": 9,
   "id": "b3340a4f",
   "metadata": {},
   "outputs": [
    {
     "data": {
      "text/html": [
       "<div>\n",
       "<style scoped>\n",
       "    .dataframe tbody tr th:only-of-type {\n",
       "        vertical-align: middle;\n",
       "    }\n",
       "\n",
       "    .dataframe tbody tr th {\n",
       "        vertical-align: top;\n",
       "    }\n",
       "\n",
       "    .dataframe thead th {\n",
       "        text-align: right;\n",
       "    }\n",
       "</style>\n",
       "<table border=\"1\" class=\"dataframe\">\n",
       "  <thead>\n",
       "    <tr style=\"text-align: right;\">\n",
       "      <th></th>\n",
       "      <th>Unnamed: 0</th>\n",
       "      <th>id</th>\n",
       "      <th>Gender</th>\n",
       "      <th>Customer Type</th>\n",
       "      <th>Age</th>\n",
       "      <th>Type of Travel</th>\n",
       "      <th>Class</th>\n",
       "      <th>Flight Distance</th>\n",
       "      <th>Inflight wifi service</th>\n",
       "      <th>Departure/Arrival time convenient</th>\n",
       "      <th>...</th>\n",
       "      <th>Inflight entertainment</th>\n",
       "      <th>On-board service</th>\n",
       "      <th>Leg room service</th>\n",
       "      <th>Baggage handling</th>\n",
       "      <th>Checkin service</th>\n",
       "      <th>Inflight service</th>\n",
       "      <th>Cleanliness</th>\n",
       "      <th>Departure Delay in Minutes</th>\n",
       "      <th>Arrival Delay in Minutes</th>\n",
       "      <th>satisfaction</th>\n",
       "    </tr>\n",
       "  </thead>\n",
       "  <tbody>\n",
       "    <tr>\n",
       "      <th>72522</th>\n",
       "      <td>72522</td>\n",
       "      <td>86882</td>\n",
       "      <td>Male</td>\n",
       "      <td>Loyal Customer</td>\n",
       "      <td>50</td>\n",
       "      <td>Personal Travel</td>\n",
       "      <td>Eco Plus</td>\n",
       "      <td>692</td>\n",
       "      <td>2</td>\n",
       "      <td>5</td>\n",
       "      <td>...</td>\n",
       "      <td>5</td>\n",
       "      <td>5</td>\n",
       "      <td>3</td>\n",
       "      <td>5</td>\n",
       "      <td>5</td>\n",
       "      <td>5</td>\n",
       "      <td>5</td>\n",
       "      <td>3</td>\n",
       "      <td>0.0</td>\n",
       "      <td>neutral or dissatisfied</td>\n",
       "    </tr>\n",
       "    <tr>\n",
       "      <th>54234</th>\n",
       "      <td>54234</td>\n",
       "      <td>44029</td>\n",
       "      <td>Male</td>\n",
       "      <td>Loyal Customer</td>\n",
       "      <td>52</td>\n",
       "      <td>Business travel</td>\n",
       "      <td>Business</td>\n",
       "      <td>2670</td>\n",
       "      <td>1</td>\n",
       "      <td>1</td>\n",
       "      <td>...</td>\n",
       "      <td>4</td>\n",
       "      <td>4</td>\n",
       "      <td>4</td>\n",
       "      <td>4</td>\n",
       "      <td>3</td>\n",
       "      <td>4</td>\n",
       "      <td>5</td>\n",
       "      <td>0</td>\n",
       "      <td>4.0</td>\n",
       "      <td>satisfied</td>\n",
       "    </tr>\n",
       "    <tr>\n",
       "      <th>37480</th>\n",
       "      <td>37480</td>\n",
       "      <td>59809</td>\n",
       "      <td>Female</td>\n",
       "      <td>disloyal Customer</td>\n",
       "      <td>47</td>\n",
       "      <td>Business travel</td>\n",
       "      <td>Business</td>\n",
       "      <td>997</td>\n",
       "      <td>1</td>\n",
       "      <td>1</td>\n",
       "      <td>...</td>\n",
       "      <td>3</td>\n",
       "      <td>2</td>\n",
       "      <td>3</td>\n",
       "      <td>2</td>\n",
       "      <td>2</td>\n",
       "      <td>2</td>\n",
       "      <td>3</td>\n",
       "      <td>0</td>\n",
       "      <td>0.0</td>\n",
       "      <td>neutral or dissatisfied</td>\n",
       "    </tr>\n",
       "    <tr>\n",
       "      <th>63556</th>\n",
       "      <td>63556</td>\n",
       "      <td>86753</td>\n",
       "      <td>Male</td>\n",
       "      <td>Loyal Customer</td>\n",
       "      <td>37</td>\n",
       "      <td>Personal Travel</td>\n",
       "      <td>Eco</td>\n",
       "      <td>821</td>\n",
       "      <td>0</td>\n",
       "      <td>4</td>\n",
       "      <td>...</td>\n",
       "      <td>4</td>\n",
       "      <td>1</td>\n",
       "      <td>2</td>\n",
       "      <td>3</td>\n",
       "      <td>3</td>\n",
       "      <td>4</td>\n",
       "      <td>4</td>\n",
       "      <td>0</td>\n",
       "      <td>0.0</td>\n",
       "      <td>satisfied</td>\n",
       "    </tr>\n",
       "    <tr>\n",
       "      <th>41928</th>\n",
       "      <td>41928</td>\n",
       "      <td>43879</td>\n",
       "      <td>Female</td>\n",
       "      <td>disloyal Customer</td>\n",
       "      <td>18</td>\n",
       "      <td>Business travel</td>\n",
       "      <td>Eco</td>\n",
       "      <td>174</td>\n",
       "      <td>2</td>\n",
       "      <td>2</td>\n",
       "      <td>...</td>\n",
       "      <td>4</td>\n",
       "      <td>4</td>\n",
       "      <td>5</td>\n",
       "      <td>4</td>\n",
       "      <td>3</td>\n",
       "      <td>4</td>\n",
       "      <td>4</td>\n",
       "      <td>0</td>\n",
       "      <td>59.0</td>\n",
       "      <td>neutral or dissatisfied</td>\n",
       "    </tr>\n",
       "    <tr>\n",
       "      <th>31238</th>\n",
       "      <td>31238</td>\n",
       "      <td>64607</td>\n",
       "      <td>Male</td>\n",
       "      <td>disloyal Customer</td>\n",
       "      <td>50</td>\n",
       "      <td>Business travel</td>\n",
       "      <td>Business</td>\n",
       "      <td>190</td>\n",
       "      <td>3</td>\n",
       "      <td>3</td>\n",
       "      <td>...</td>\n",
       "      <td>2</td>\n",
       "      <td>5</td>\n",
       "      <td>2</td>\n",
       "      <td>4</td>\n",
       "      <td>4</td>\n",
       "      <td>4</td>\n",
       "      <td>2</td>\n",
       "      <td>0</td>\n",
       "      <td>0.0</td>\n",
       "      <td>neutral or dissatisfied</td>\n",
       "    </tr>\n",
       "    <tr>\n",
       "      <th>75983</th>\n",
       "      <td>75983</td>\n",
       "      <td>59411</td>\n",
       "      <td>Female</td>\n",
       "      <td>Loyal Customer</td>\n",
       "      <td>55</td>\n",
       "      <td>Personal Travel</td>\n",
       "      <td>Eco</td>\n",
       "      <td>2367</td>\n",
       "      <td>2</td>\n",
       "      <td>5</td>\n",
       "      <td>...</td>\n",
       "      <td>5</td>\n",
       "      <td>5</td>\n",
       "      <td>1</td>\n",
       "      <td>5</td>\n",
       "      <td>3</td>\n",
       "      <td>5</td>\n",
       "      <td>4</td>\n",
       "      <td>0</td>\n",
       "      <td>0.0</td>\n",
       "      <td>neutral or dissatisfied</td>\n",
       "    </tr>\n",
       "    <tr>\n",
       "      <th>42081</th>\n",
       "      <td>42081</td>\n",
       "      <td>50191</td>\n",
       "      <td>Female</td>\n",
       "      <td>Loyal Customer</td>\n",
       "      <td>26</td>\n",
       "      <td>Business travel</td>\n",
       "      <td>Business</td>\n",
       "      <td>3879</td>\n",
       "      <td>3</td>\n",
       "      <td>2</td>\n",
       "      <td>...</td>\n",
       "      <td>3</td>\n",
       "      <td>3</td>\n",
       "      <td>4</td>\n",
       "      <td>3</td>\n",
       "      <td>1</td>\n",
       "      <td>4</td>\n",
       "      <td>3</td>\n",
       "      <td>0</td>\n",
       "      <td>0.0</td>\n",
       "      <td>neutral or dissatisfied</td>\n",
       "    </tr>\n",
       "    <tr>\n",
       "      <th>94532</th>\n",
       "      <td>94532</td>\n",
       "      <td>36266</td>\n",
       "      <td>Female</td>\n",
       "      <td>Loyal Customer</td>\n",
       "      <td>60</td>\n",
       "      <td>Business travel</td>\n",
       "      <td>Business</td>\n",
       "      <td>3617</td>\n",
       "      <td>4</td>\n",
       "      <td>5</td>\n",
       "      <td>...</td>\n",
       "      <td>4</td>\n",
       "      <td>4</td>\n",
       "      <td>4</td>\n",
       "      <td>4</td>\n",
       "      <td>3</td>\n",
       "      <td>4</td>\n",
       "      <td>2</td>\n",
       "      <td>20</td>\n",
       "      <td>36.0</td>\n",
       "      <td>neutral or dissatisfied</td>\n",
       "    </tr>\n",
       "    <tr>\n",
       "      <th>30410</th>\n",
       "      <td>30410</td>\n",
       "      <td>4140</td>\n",
       "      <td>Male</td>\n",
       "      <td>disloyal Customer</td>\n",
       "      <td>21</td>\n",
       "      <td>Business travel</td>\n",
       "      <td>Eco</td>\n",
       "      <td>431</td>\n",
       "      <td>3</td>\n",
       "      <td>4</td>\n",
       "      <td>...</td>\n",
       "      <td>3</td>\n",
       "      <td>1</td>\n",
       "      <td>5</td>\n",
       "      <td>4</td>\n",
       "      <td>3</td>\n",
       "      <td>3</td>\n",
       "      <td>3</td>\n",
       "      <td>0</td>\n",
       "      <td>0.0</td>\n",
       "      <td>neutral or dissatisfied</td>\n",
       "    </tr>\n",
       "  </tbody>\n",
       "</table>\n",
       "<p>10 rows × 25 columns</p>\n",
       "</div>"
      ],
      "text/plain": [
       "       Unnamed: 0     id  Gender      Customer Type  Age   Type of Travel  \\\n",
       "72522       72522  86882    Male     Loyal Customer   50  Personal Travel   \n",
       "54234       54234  44029    Male     Loyal Customer   52  Business travel   \n",
       "37480       37480  59809  Female  disloyal Customer   47  Business travel   \n",
       "63556       63556  86753    Male     Loyal Customer   37  Personal Travel   \n",
       "41928       41928  43879  Female  disloyal Customer   18  Business travel   \n",
       "31238       31238  64607    Male  disloyal Customer   50  Business travel   \n",
       "75983       75983  59411  Female     Loyal Customer   55  Personal Travel   \n",
       "42081       42081  50191  Female     Loyal Customer   26  Business travel   \n",
       "94532       94532  36266  Female     Loyal Customer   60  Business travel   \n",
       "30410       30410   4140    Male  disloyal Customer   21  Business travel   \n",
       "\n",
       "          Class  Flight Distance  Inflight wifi service  \\\n",
       "72522  Eco Plus              692                      2   \n",
       "54234  Business             2670                      1   \n",
       "37480  Business              997                      1   \n",
       "63556       Eco              821                      0   \n",
       "41928       Eco              174                      2   \n",
       "31238  Business              190                      3   \n",
       "75983       Eco             2367                      2   \n",
       "42081  Business             3879                      3   \n",
       "94532  Business             3617                      4   \n",
       "30410       Eco              431                      3   \n",
       "\n",
       "       Departure/Arrival time convenient  ...  Inflight entertainment  \\\n",
       "72522                                  5  ...                       5   \n",
       "54234                                  1  ...                       4   \n",
       "37480                                  1  ...                       3   \n",
       "63556                                  4  ...                       4   \n",
       "41928                                  2  ...                       4   \n",
       "31238                                  3  ...                       2   \n",
       "75983                                  5  ...                       5   \n",
       "42081                                  2  ...                       3   \n",
       "94532                                  5  ...                       4   \n",
       "30410                                  4  ...                       3   \n",
       "\n",
       "       On-board service  Leg room service  Baggage handling  Checkin service  \\\n",
       "72522                 5                 3                 5                5   \n",
       "54234                 4                 4                 4                3   \n",
       "37480                 2                 3                 2                2   \n",
       "63556                 1                 2                 3                3   \n",
       "41928                 4                 5                 4                3   \n",
       "31238                 5                 2                 4                4   \n",
       "75983                 5                 1                 5                3   \n",
       "42081                 3                 4                 3                1   \n",
       "94532                 4                 4                 4                3   \n",
       "30410                 1                 5                 4                3   \n",
       "\n",
       "       Inflight service  Cleanliness  Departure Delay in Minutes  \\\n",
       "72522                 5            5                           3   \n",
       "54234                 4            5                           0   \n",
       "37480                 2            3                           0   \n",
       "63556                 4            4                           0   \n",
       "41928                 4            4                           0   \n",
       "31238                 4            2                           0   \n",
       "75983                 5            4                           0   \n",
       "42081                 4            3                           0   \n",
       "94532                 4            2                          20   \n",
       "30410                 3            3                           0   \n",
       "\n",
       "       Arrival Delay in Minutes             satisfaction  \n",
       "72522                       0.0  neutral or dissatisfied  \n",
       "54234                       4.0                satisfied  \n",
       "37480                       0.0  neutral or dissatisfied  \n",
       "63556                       0.0                satisfied  \n",
       "41928                      59.0  neutral or dissatisfied  \n",
       "31238                       0.0  neutral or dissatisfied  \n",
       "75983                       0.0  neutral or dissatisfied  \n",
       "42081                       0.0  neutral or dissatisfied  \n",
       "94532                      36.0  neutral or dissatisfied  \n",
       "30410                       0.0  neutral or dissatisfied  \n",
       "\n",
       "[10 rows x 25 columns]"
      ]
     },
     "execution_count": 9,
     "metadata": {},
     "output_type": "execute_result"
    }
   ],
   "source": [
    "#display 10 random rows\n",
    "train_df.sample(10)"
   ]
  },
  {
   "cell_type": "code",
   "execution_count": 11,
   "id": "e6ee3a72",
   "metadata": {},
   "outputs": [
    {
     "data": {
      "text/plain": [
       "Index(['Unnamed: 0', 'id', 'Gender', 'Customer Type', 'Age', 'Type of Travel',\n",
       "       'Class', 'Flight Distance', 'Inflight wifi service',\n",
       "       'Departure/Arrival time convenient', 'Ease of Online booking',\n",
       "       'Gate location', 'Food and drink', 'Online boarding', 'Seat comfort',\n",
       "       'Inflight entertainment', 'On-board service', 'Leg room service',\n",
       "       'Baggage handling', 'Checkin service', 'Inflight service',\n",
       "       'Cleanliness', 'Departure Delay in Minutes', 'Arrival Delay in Minutes',\n",
       "       'satisfaction'],\n",
       "      dtype='object')"
      ]
     },
     "execution_count": 11,
     "metadata": {},
     "output_type": "execute_result"
    }
   ],
   "source": [
    "#display column names \n",
    "train_df.columns"
   ]
  },
  {
   "cell_type": "code",
   "execution_count": 13,
   "id": "1b49d078",
   "metadata": {},
   "outputs": [
    {
     "name": "stdout",
     "output_type": "stream",
     "text": [
      "The Unnamed column contains 103904 unique values.\n"
     ]
    }
   ],
   "source": [
    "#the unnamed column look like they have the same values as the index, check count\n",
    "if train_df[\"Unnamed: 0\"].count()  == train_df[\"Unnamed: 0\"].nunique():\n",
    "    print(f\"The Unnamed column contains {train_df['Unnamed: 0'].nunique()} unique values.\")"
   ]
  },
  {
   "cell_type": "code",
   "execution_count": 14,
   "id": "fae31508",
   "metadata": {},
   "outputs": [],
   "source": [
    "#set unnamed column as new index\n",
    "train_df = train_df.set_index(\"Unnamed: 0\")\n",
    "\n",
    "#rename index\n",
    "train_df.index.name = \"Index\""
   ]
  },
  {
   "cell_type": "code",
   "execution_count": 15,
   "id": "69612408",
   "metadata": {},
   "outputs": [
    {
     "data": {
      "text/html": [
       "<div>\n",
       "<style scoped>\n",
       "    .dataframe tbody tr th:only-of-type {\n",
       "        vertical-align: middle;\n",
       "    }\n",
       "\n",
       "    .dataframe tbody tr th {\n",
       "        vertical-align: top;\n",
       "    }\n",
       "\n",
       "    .dataframe thead th {\n",
       "        text-align: right;\n",
       "    }\n",
       "</style>\n",
       "<table border=\"1\" class=\"dataframe\">\n",
       "  <thead>\n",
       "    <tr style=\"text-align: right;\">\n",
       "      <th></th>\n",
       "      <th>id</th>\n",
       "      <th>Gender</th>\n",
       "      <th>Customer Type</th>\n",
       "      <th>Age</th>\n",
       "      <th>Type of Travel</th>\n",
       "      <th>Class</th>\n",
       "      <th>Flight Distance</th>\n",
       "      <th>Inflight wifi service</th>\n",
       "      <th>Departure/Arrival time convenient</th>\n",
       "      <th>Ease of Online booking</th>\n",
       "      <th>...</th>\n",
       "      <th>Inflight entertainment</th>\n",
       "      <th>On-board service</th>\n",
       "      <th>Leg room service</th>\n",
       "      <th>Baggage handling</th>\n",
       "      <th>Checkin service</th>\n",
       "      <th>Inflight service</th>\n",
       "      <th>Cleanliness</th>\n",
       "      <th>Departure Delay in Minutes</th>\n",
       "      <th>Arrival Delay in Minutes</th>\n",
       "      <th>satisfaction</th>\n",
       "    </tr>\n",
       "    <tr>\n",
       "      <th>Index</th>\n",
       "      <th></th>\n",
       "      <th></th>\n",
       "      <th></th>\n",
       "      <th></th>\n",
       "      <th></th>\n",
       "      <th></th>\n",
       "      <th></th>\n",
       "      <th></th>\n",
       "      <th></th>\n",
       "      <th></th>\n",
       "      <th></th>\n",
       "      <th></th>\n",
       "      <th></th>\n",
       "      <th></th>\n",
       "      <th></th>\n",
       "      <th></th>\n",
       "      <th></th>\n",
       "      <th></th>\n",
       "      <th></th>\n",
       "      <th></th>\n",
       "      <th></th>\n",
       "    </tr>\n",
       "  </thead>\n",
       "  <tbody>\n",
       "    <tr>\n",
       "      <th>0</th>\n",
       "      <td>70172</td>\n",
       "      <td>Male</td>\n",
       "      <td>Loyal Customer</td>\n",
       "      <td>13</td>\n",
       "      <td>Personal Travel</td>\n",
       "      <td>Eco Plus</td>\n",
       "      <td>460</td>\n",
       "      <td>3</td>\n",
       "      <td>4</td>\n",
       "      <td>3</td>\n",
       "      <td>...</td>\n",
       "      <td>5</td>\n",
       "      <td>4</td>\n",
       "      <td>3</td>\n",
       "      <td>4</td>\n",
       "      <td>4</td>\n",
       "      <td>5</td>\n",
       "      <td>5</td>\n",
       "      <td>25</td>\n",
       "      <td>18.0</td>\n",
       "      <td>neutral or dissatisfied</td>\n",
       "    </tr>\n",
       "    <tr>\n",
       "      <th>1</th>\n",
       "      <td>5047</td>\n",
       "      <td>Male</td>\n",
       "      <td>disloyal Customer</td>\n",
       "      <td>25</td>\n",
       "      <td>Business travel</td>\n",
       "      <td>Business</td>\n",
       "      <td>235</td>\n",
       "      <td>3</td>\n",
       "      <td>2</td>\n",
       "      <td>3</td>\n",
       "      <td>...</td>\n",
       "      <td>1</td>\n",
       "      <td>1</td>\n",
       "      <td>5</td>\n",
       "      <td>3</td>\n",
       "      <td>1</td>\n",
       "      <td>4</td>\n",
       "      <td>1</td>\n",
       "      <td>1</td>\n",
       "      <td>6.0</td>\n",
       "      <td>neutral or dissatisfied</td>\n",
       "    </tr>\n",
       "  </tbody>\n",
       "</table>\n",
       "<p>2 rows × 24 columns</p>\n",
       "</div>"
      ],
      "text/plain": [
       "          id Gender      Customer Type  Age   Type of Travel     Class  \\\n",
       "Index                                                                    \n",
       "0      70172   Male     Loyal Customer   13  Personal Travel  Eco Plus   \n",
       "1       5047   Male  disloyal Customer   25  Business travel  Business   \n",
       "\n",
       "       Flight Distance  Inflight wifi service  \\\n",
       "Index                                           \n",
       "0                  460                      3   \n",
       "1                  235                      3   \n",
       "\n",
       "       Departure/Arrival time convenient  Ease of Online booking  ...  \\\n",
       "Index                                                             ...   \n",
       "0                                      4                       3  ...   \n",
       "1                                      2                       3  ...   \n",
       "\n",
       "       Inflight entertainment  On-board service  Leg room service  \\\n",
       "Index                                                               \n",
       "0                           5                 4                 3   \n",
       "1                           1                 1                 5   \n",
       "\n",
       "       Baggage handling  Checkin service  Inflight service  Cleanliness  \\\n",
       "Index                                                                     \n",
       "0                     4                4                 5            5   \n",
       "1                     3                1                 4            1   \n",
       "\n",
       "       Departure Delay in Minutes  Arrival Delay in Minutes  \\\n",
       "Index                                                         \n",
       "0                              25                      18.0   \n",
       "1                               1                       6.0   \n",
       "\n",
       "                  satisfaction  \n",
       "Index                           \n",
       "0      neutral or dissatisfied  \n",
       "1      neutral or dissatisfied  \n",
       "\n",
       "[2 rows x 24 columns]"
      ]
     },
     "execution_count": 15,
     "metadata": {},
     "output_type": "execute_result"
    }
   ],
   "source": [
    "#view changes\n",
    "train_df.head(2)"
   ]
  },
  {
   "cell_type": "code",
   "execution_count": 17,
   "id": "4ad865b8",
   "metadata": {},
   "outputs": [],
   "source": [
    "#replace spaces in column names with underscore _\n",
    "string = {\" \": \"_\"}\n",
    "train_df.columns = train_df.columns.str.replace(\" \", \"_\", regex=True)"
   ]
  },
  {
   "cell_type": "code",
   "execution_count": 20,
   "id": "7265d6bf",
   "metadata": {},
   "outputs": [],
   "source": [
    "#capitalize column names\n",
    "train_df.columns = train_df.columns.str.title()"
   ]
  },
  {
   "cell_type": "code",
   "execution_count": 22,
   "id": "9669a0cc",
   "metadata": {},
   "outputs": [
    {
     "data": {
      "text/plain": [
       "Index(['Id', 'Gender', 'Customer_Type', 'Age', 'Type_Of_Travel', 'Class',\n",
       "       'Flight_Distance', 'Inflight_Wifi_Service',\n",
       "       'Departure/Arrival_Time_Convenient', 'Ease_Of_Online_Booking',\n",
       "       'Gate_Location', 'Food_And_Drink', 'Online_Boarding', 'Seat_Comfort',\n",
       "       'Inflight_Entertainment', 'On-Board_Service', 'Leg_Room_Service',\n",
       "       'Baggage_Handling', 'Checkin_Service', 'Inflight_Service',\n",
       "       'Cleanliness', 'Departure_Delay_In_Minutes', 'Arrival_Delay_In_Minutes',\n",
       "       'Satisfaction'],\n",
       "      dtype='object')"
      ]
     },
     "execution_count": 22,
     "metadata": {},
     "output_type": "execute_result"
    }
   ],
   "source": [
    "#view changes\n",
    "train_df.columns"
   ]
  },
  {
   "cell_type": "code",
   "execution_count": 25,
   "id": "b760286f",
   "metadata": {},
   "outputs": [
    {
     "name": "stdout",
     "output_type": "stream",
     "text": [
      "<class 'pandas.core.frame.DataFrame'>\n",
      "Index: 103904 entries, 0 to 103903\n",
      "Data columns (total 24 columns):\n",
      " #   Column                             Non-Null Count   Dtype  \n",
      "---  ------                             --------------   -----  \n",
      " 0   Id                                 103904 non-null  int64  \n",
      " 1   Gender                             103904 non-null  object \n",
      " 2   Customer_Type                      103904 non-null  object \n",
      " 3   Age                                103904 non-null  int64  \n",
      " 4   Type_Of_Travel                     103904 non-null  object \n",
      " 5   Class                              103904 non-null  object \n",
      " 6   Flight_Distance                    103904 non-null  int64  \n",
      " 7   Inflight_Wifi_Service              103904 non-null  int64  \n",
      " 8   Departure/Arrival_Time_Convenient  103904 non-null  int64  \n",
      " 9   Ease_Of_Online_Booking             103904 non-null  int64  \n",
      " 10  Gate_Location                      103904 non-null  int64  \n",
      " 11  Food_And_Drink                     103904 non-null  int64  \n",
      " 12  Online_Boarding                    103904 non-null  int64  \n",
      " 13  Seat_Comfort                       103904 non-null  int64  \n",
      " 14  Inflight_Entertainment             103904 non-null  int64  \n",
      " 15  On-Board_Service                   103904 non-null  int64  \n",
      " 16  Leg_Room_Service                   103904 non-null  int64  \n",
      " 17  Baggage_Handling                   103904 non-null  int64  \n",
      " 18  Checkin_Service                    103904 non-null  int64  \n",
      " 19  Inflight_Service                   103904 non-null  int64  \n",
      " 20  Cleanliness                        103904 non-null  int64  \n",
      " 21  Departure_Delay_In_Minutes         103904 non-null  int64  \n",
      " 22  Arrival_Delay_In_Minutes           103594 non-null  float64\n",
      " 23  Satisfaction                       103904 non-null  object \n",
      "dtypes: float64(1), int64(18), object(5)\n",
      "memory usage: 19.8+ MB\n"
     ]
    }
   ],
   "source": [
    "#check info\n",
    "train_df.info()"
   ]
  },
  {
   "cell_type": "code",
   "execution_count": 26,
   "id": "0799ffc8",
   "metadata": {},
   "outputs": [
    {
     "data": {
      "text/plain": [
       "Id                                     0\n",
       "Gender                                 0\n",
       "Customer_Type                          0\n",
       "Age                                    0\n",
       "Type_Of_Travel                         0\n",
       "Class                                  0\n",
       "Flight_Distance                        0\n",
       "Inflight_Wifi_Service                  0\n",
       "Departure/Arrival_Time_Convenient      0\n",
       "Ease_Of_Online_Booking                 0\n",
       "Gate_Location                          0\n",
       "Food_And_Drink                         0\n",
       "Online_Boarding                        0\n",
       "Seat_Comfort                           0\n",
       "Inflight_Entertainment                 0\n",
       "On-Board_Service                       0\n",
       "Leg_Room_Service                       0\n",
       "Baggage_Handling                       0\n",
       "Checkin_Service                        0\n",
       "Inflight_Service                       0\n",
       "Cleanliness                            0\n",
       "Departure_Delay_In_Minutes             0\n",
       "Arrival_Delay_In_Minutes             310\n",
       "Satisfaction                           0\n",
       "dtype: int64"
      ]
     },
     "execution_count": 26,
     "metadata": {},
     "output_type": "execute_result"
    }
   ],
   "source": [
    "#check for missing values in train data\n",
    "train_df.isnull().sum()"
   ]
  },
  {
   "cell_type": "code",
   "execution_count": 29,
   "id": "d7036404",
   "metadata": {},
   "outputs": [
    {
     "data": {
      "text/plain": [
       "Index\n",
       "0    18.0\n",
       "1     6.0\n",
       "2     0.0\n",
       "3     9.0\n",
       "4     0.0\n",
       "Name: Arrival_Delay_In_Minutes, dtype: float64"
      ]
     },
     "execution_count": 29,
     "metadata": {},
     "output_type": "execute_result"
    }
   ],
   "source": [
    "#view first 5 rows of the column with missing values\n",
    "train_df[\"Arrival_Delay_In_Minutes\"].head()"
   ]
  },
  {
   "cell_type": "code",
   "execution_count": 31,
   "id": "ec1acc8e",
   "metadata": {},
   "outputs": [],
   "source": [
    "#fill missing values in the column with the mean\n",
    "train_df[\"Arrival_Delay_In_Minutes\"] = train_df[\"Arrival_Delay_In_Minutes\"].fillna(train_df[\"Arrival_Delay_In_Minutes\"].mean())"
   ]
  },
  {
   "cell_type": "code",
   "execution_count": 33,
   "id": "47010cf1",
   "metadata": {},
   "outputs": [
    {
     "data": {
      "text/plain": [
       "0"
      ]
     },
     "execution_count": 33,
     "metadata": {},
     "output_type": "execute_result"
    }
   ],
   "source": [
    "#confirm missing values have been filled\n",
    "train_df[\"Arrival_Delay_In_Minutes\"].isnull().sum()"
   ]
  },
  {
   "cell_type": "code",
   "execution_count": 35,
   "id": "6eeeaa49",
   "metadata": {},
   "outputs": [
    {
     "data": {
      "text/plain": [
       "Id                                     int64\n",
       "Gender                                object\n",
       "Customer_Type                         object\n",
       "Age                                    int64\n",
       "Type_Of_Travel                        object\n",
       "Class                                 object\n",
       "Flight_Distance                        int64\n",
       "Inflight_Wifi_Service                  int64\n",
       "Departure/Arrival_Time_Convenient      int64\n",
       "Ease_Of_Online_Booking                 int64\n",
       "Gate_Location                          int64\n",
       "Food_And_Drink                         int64\n",
       "Online_Boarding                        int64\n",
       "Seat_Comfort                           int64\n",
       "Inflight_Entertainment                 int64\n",
       "On-Board_Service                       int64\n",
       "Leg_Room_Service                       int64\n",
       "Baggage_Handling                       int64\n",
       "Checkin_Service                        int64\n",
       "Inflight_Service                       int64\n",
       "Cleanliness                            int64\n",
       "Departure_Delay_In_Minutes             int64\n",
       "Arrival_Delay_In_Minutes             float64\n",
       "Satisfaction                          object\n",
       "dtype: object"
      ]
     },
     "execution_count": 35,
     "metadata": {},
     "output_type": "execute_result"
    }
   ],
   "source": [
    "train_df.dtypes"
   ]
  },
  {
   "cell_type": "code",
   "execution_count": 37,
   "id": "aa93e1ab",
   "metadata": {},
   "outputs": [
    {
     "data": {
      "text/plain": [
       "array(['Male', 'Female'], dtype=object)"
      ]
     },
     "execution_count": 37,
     "metadata": {},
     "output_type": "execute_result"
    }
   ],
   "source": [
    "train_df.Gender.unique()"
   ]
  },
  {
   "cell_type": "code",
   "execution_count": 39,
   "id": "651eda8a",
   "metadata": {},
   "outputs": [],
   "source": [
    "train_df.Gender = train_df[\"Gender\"].map({\"Male\": 0, \"Female\": 1})"
   ]
  },
  {
   "cell_type": "code",
   "execution_count": 41,
   "id": "3fb0e589",
   "metadata": {},
   "outputs": [
    {
     "data": {
      "text/plain": [
       "Index\n",
       "96801    0\n",
       "51590    1\n",
       "93800    0\n",
       "5434     1\n",
       "Name: Gender, dtype: int64"
      ]
     },
     "execution_count": 41,
     "metadata": {},
     "output_type": "execute_result"
    }
   ],
   "source": [
    "train_df.Gender.sample(4)"
   ]
  },
  {
   "cell_type": "code",
   "execution_count": 43,
   "id": "5f6d21d4",
   "metadata": {},
   "outputs": [
    {
     "data": {
      "text/plain": [
       "array(['Loyal Customer', 'disloyal Customer'], dtype=object)"
      ]
     },
     "execution_count": 43,
     "metadata": {},
     "output_type": "execute_result"
    }
   ],
   "source": [
    "train_df.Customer_Type.unique()"
   ]
  },
  {
   "cell_type": "code",
   "execution_count": 45,
   "id": "08ca4401",
   "metadata": {},
   "outputs": [
    {
     "data": {
      "text/plain": [
       "array([0, 1], dtype=int64)"
      ]
     },
     "execution_count": 45,
     "metadata": {},
     "output_type": "execute_result"
    }
   ],
   "source": [
    "train_df.Customer_Type = train_df.Customer_Type.map({\"Loyal Customer\": 0, \"disloyal Customer\": 1})\n",
    "train_df.Customer_Type.unique()"
   ]
  },
  {
   "cell_type": "code",
   "execution_count": 47,
   "id": "ae4f0b75",
   "metadata": {},
   "outputs": [
    {
     "data": {
      "text/plain": [
       "array(['Personal Travel', 'Business travel'], dtype=object)"
      ]
     },
     "execution_count": 47,
     "metadata": {},
     "output_type": "execute_result"
    }
   ],
   "source": [
    "train_df.Type_Of_Travel.unique()"
   ]
  },
  {
   "cell_type": "code",
   "execution_count": 49,
   "id": "8912f510",
   "metadata": {},
   "outputs": [
    {
     "data": {
      "text/plain": [
       "array([0, 1], dtype=int64)"
      ]
     },
     "execution_count": 49,
     "metadata": {},
     "output_type": "execute_result"
    }
   ],
   "source": [
    "train_df.Type_Of_Travel = train_df.Type_Of_Travel.map({\"Personal Travel\": 0, \"Business travel\": 1})\n",
    "train_df.Type_Of_Travel.unique()"
   ]
  },
  {
   "cell_type": "code",
   "execution_count": 51,
   "id": "6fbe31f2",
   "metadata": {},
   "outputs": [
    {
     "data": {
      "text/plain": [
       "array(['Eco Plus', 'Business', 'Eco'], dtype=object)"
      ]
     },
     "execution_count": 51,
     "metadata": {},
     "output_type": "execute_result"
    }
   ],
   "source": [
    "train_df.Class.unique()"
   ]
  },
  {
   "cell_type": "code",
   "execution_count": 53,
   "id": "741620c2",
   "metadata": {},
   "outputs": [
    {
     "data": {
      "text/plain": [
       "array([0, 1, 2], dtype=int64)"
      ]
     },
     "execution_count": 53,
     "metadata": {},
     "output_type": "execute_result"
    }
   ],
   "source": [
    "train_df.Class = train_df.Class.map({\"Eco Plus\": 0, \"Business\": 1, \"Eco\": 2})\n",
    "train_df.Class.unique()"
   ]
  },
  {
   "cell_type": "code",
   "execution_count": 55,
   "id": "483f9074",
   "metadata": {},
   "outputs": [
    {
     "data": {
      "text/plain": [
       "array(['neutral or dissatisfied', 'satisfied'], dtype=object)"
      ]
     },
     "execution_count": 55,
     "metadata": {},
     "output_type": "execute_result"
    }
   ],
   "source": [
    "train_df.Satisfaction.unique()"
   ]
  },
  {
   "cell_type": "code",
   "execution_count": 57,
   "id": "053f3d92",
   "metadata": {},
   "outputs": [
    {
     "data": {
      "text/plain": [
       "array([0, 1], dtype=int64)"
      ]
     },
     "execution_count": 57,
     "metadata": {},
     "output_type": "execute_result"
    }
   ],
   "source": [
    "train_df.Satisfaction = train_df.Satisfaction.map({\"neutral or dissatisfied\": 0, \"satisfied\": 1})\n",
    "train_df.Satisfaction.unique()"
   ]
  },
  {
   "cell_type": "code",
   "execution_count": 59,
   "id": "8d785849",
   "metadata": {},
   "outputs": [
    {
     "data": {
      "text/html": [
       "<div>\n",
       "<style scoped>\n",
       "    .dataframe tbody tr th:only-of-type {\n",
       "        vertical-align: middle;\n",
       "    }\n",
       "\n",
       "    .dataframe tbody tr th {\n",
       "        vertical-align: top;\n",
       "    }\n",
       "\n",
       "    .dataframe thead th {\n",
       "        text-align: right;\n",
       "    }\n",
       "</style>\n",
       "<table border=\"1\" class=\"dataframe\">\n",
       "  <thead>\n",
       "    <tr style=\"text-align: right;\">\n",
       "      <th></th>\n",
       "      <th>Id</th>\n",
       "      <th>Gender</th>\n",
       "      <th>Customer_Type</th>\n",
       "      <th>Age</th>\n",
       "      <th>Type_Of_Travel</th>\n",
       "      <th>Class</th>\n",
       "      <th>Flight_Distance</th>\n",
       "      <th>Inflight_Wifi_Service</th>\n",
       "      <th>Departure/Arrival_Time_Convenient</th>\n",
       "      <th>Ease_Of_Online_Booking</th>\n",
       "      <th>...</th>\n",
       "      <th>Inflight_Entertainment</th>\n",
       "      <th>On-Board_Service</th>\n",
       "      <th>Leg_Room_Service</th>\n",
       "      <th>Baggage_Handling</th>\n",
       "      <th>Checkin_Service</th>\n",
       "      <th>Inflight_Service</th>\n",
       "      <th>Cleanliness</th>\n",
       "      <th>Departure_Delay_In_Minutes</th>\n",
       "      <th>Arrival_Delay_In_Minutes</th>\n",
       "      <th>Satisfaction</th>\n",
       "    </tr>\n",
       "    <tr>\n",
       "      <th>Index</th>\n",
       "      <th></th>\n",
       "      <th></th>\n",
       "      <th></th>\n",
       "      <th></th>\n",
       "      <th></th>\n",
       "      <th></th>\n",
       "      <th></th>\n",
       "      <th></th>\n",
       "      <th></th>\n",
       "      <th></th>\n",
       "      <th></th>\n",
       "      <th></th>\n",
       "      <th></th>\n",
       "      <th></th>\n",
       "      <th></th>\n",
       "      <th></th>\n",
       "      <th></th>\n",
       "      <th></th>\n",
       "      <th></th>\n",
       "      <th></th>\n",
       "      <th></th>\n",
       "    </tr>\n",
       "  </thead>\n",
       "  <tbody>\n",
       "    <tr>\n",
       "      <th>0</th>\n",
       "      <td>70172</td>\n",
       "      <td>0</td>\n",
       "      <td>0</td>\n",
       "      <td>13</td>\n",
       "      <td>0</td>\n",
       "      <td>0</td>\n",
       "      <td>460</td>\n",
       "      <td>3</td>\n",
       "      <td>4</td>\n",
       "      <td>3</td>\n",
       "      <td>...</td>\n",
       "      <td>5</td>\n",
       "      <td>4</td>\n",
       "      <td>3</td>\n",
       "      <td>4</td>\n",
       "      <td>4</td>\n",
       "      <td>5</td>\n",
       "      <td>5</td>\n",
       "      <td>25</td>\n",
       "      <td>18.0</td>\n",
       "      <td>0</td>\n",
       "    </tr>\n",
       "    <tr>\n",
       "      <th>1</th>\n",
       "      <td>5047</td>\n",
       "      <td>0</td>\n",
       "      <td>1</td>\n",
       "      <td>25</td>\n",
       "      <td>1</td>\n",
       "      <td>1</td>\n",
       "      <td>235</td>\n",
       "      <td>3</td>\n",
       "      <td>2</td>\n",
       "      <td>3</td>\n",
       "      <td>...</td>\n",
       "      <td>1</td>\n",
       "      <td>1</td>\n",
       "      <td>5</td>\n",
       "      <td>3</td>\n",
       "      <td>1</td>\n",
       "      <td>4</td>\n",
       "      <td>1</td>\n",
       "      <td>1</td>\n",
       "      <td>6.0</td>\n",
       "      <td>0</td>\n",
       "    </tr>\n",
       "    <tr>\n",
       "      <th>2</th>\n",
       "      <td>110028</td>\n",
       "      <td>1</td>\n",
       "      <td>0</td>\n",
       "      <td>26</td>\n",
       "      <td>1</td>\n",
       "      <td>1</td>\n",
       "      <td>1142</td>\n",
       "      <td>2</td>\n",
       "      <td>2</td>\n",
       "      <td>2</td>\n",
       "      <td>...</td>\n",
       "      <td>5</td>\n",
       "      <td>4</td>\n",
       "      <td>3</td>\n",
       "      <td>4</td>\n",
       "      <td>4</td>\n",
       "      <td>4</td>\n",
       "      <td>5</td>\n",
       "      <td>0</td>\n",
       "      <td>0.0</td>\n",
       "      <td>1</td>\n",
       "    </tr>\n",
       "    <tr>\n",
       "      <th>3</th>\n",
       "      <td>24026</td>\n",
       "      <td>1</td>\n",
       "      <td>0</td>\n",
       "      <td>25</td>\n",
       "      <td>1</td>\n",
       "      <td>1</td>\n",
       "      <td>562</td>\n",
       "      <td>2</td>\n",
       "      <td>5</td>\n",
       "      <td>5</td>\n",
       "      <td>...</td>\n",
       "      <td>2</td>\n",
       "      <td>2</td>\n",
       "      <td>5</td>\n",
       "      <td>3</td>\n",
       "      <td>1</td>\n",
       "      <td>4</td>\n",
       "      <td>2</td>\n",
       "      <td>11</td>\n",
       "      <td>9.0</td>\n",
       "      <td>0</td>\n",
       "    </tr>\n",
       "    <tr>\n",
       "      <th>4</th>\n",
       "      <td>119299</td>\n",
       "      <td>0</td>\n",
       "      <td>0</td>\n",
       "      <td>61</td>\n",
       "      <td>1</td>\n",
       "      <td>1</td>\n",
       "      <td>214</td>\n",
       "      <td>3</td>\n",
       "      <td>3</td>\n",
       "      <td>3</td>\n",
       "      <td>...</td>\n",
       "      <td>3</td>\n",
       "      <td>3</td>\n",
       "      <td>4</td>\n",
       "      <td>4</td>\n",
       "      <td>3</td>\n",
       "      <td>3</td>\n",
       "      <td>3</td>\n",
       "      <td>0</td>\n",
       "      <td>0.0</td>\n",
       "      <td>1</td>\n",
       "    </tr>\n",
       "  </tbody>\n",
       "</table>\n",
       "<p>5 rows × 24 columns</p>\n",
       "</div>"
      ],
      "text/plain": [
       "           Id  Gender  Customer_Type  Age  Type_Of_Travel  Class  \\\n",
       "Index                                                              \n",
       "0       70172       0              0   13               0      0   \n",
       "1        5047       0              1   25               1      1   \n",
       "2      110028       1              0   26               1      1   \n",
       "3       24026       1              0   25               1      1   \n",
       "4      119299       0              0   61               1      1   \n",
       "\n",
       "       Flight_Distance  Inflight_Wifi_Service  \\\n",
       "Index                                           \n",
       "0                  460                      3   \n",
       "1                  235                      3   \n",
       "2                 1142                      2   \n",
       "3                  562                      2   \n",
       "4                  214                      3   \n",
       "\n",
       "       Departure/Arrival_Time_Convenient  Ease_Of_Online_Booking  ...  \\\n",
       "Index                                                             ...   \n",
       "0                                      4                       3  ...   \n",
       "1                                      2                       3  ...   \n",
       "2                                      2                       2  ...   \n",
       "3                                      5                       5  ...   \n",
       "4                                      3                       3  ...   \n",
       "\n",
       "       Inflight_Entertainment  On-Board_Service  Leg_Room_Service  \\\n",
       "Index                                                               \n",
       "0                           5                 4                 3   \n",
       "1                           1                 1                 5   \n",
       "2                           5                 4                 3   \n",
       "3                           2                 2                 5   \n",
       "4                           3                 3                 4   \n",
       "\n",
       "       Baggage_Handling  Checkin_Service  Inflight_Service  Cleanliness  \\\n",
       "Index                                                                     \n",
       "0                     4                4                 5            5   \n",
       "1                     3                1                 4            1   \n",
       "2                     4                4                 4            5   \n",
       "3                     3                1                 4            2   \n",
       "4                     4                3                 3            3   \n",
       "\n",
       "       Departure_Delay_In_Minutes  Arrival_Delay_In_Minutes  Satisfaction  \n",
       "Index                                                                      \n",
       "0                              25                      18.0             0  \n",
       "1                               1                       6.0             0  \n",
       "2                               0                       0.0             1  \n",
       "3                              11                       9.0             0  \n",
       "4                               0                       0.0             1  \n",
       "\n",
       "[5 rows x 24 columns]"
      ]
     },
     "execution_count": 59,
     "metadata": {},
     "output_type": "execute_result"
    }
   ],
   "source": [
    "train_df.head()"
   ]
  },
  {
   "cell_type": "code",
   "execution_count": 61,
   "id": "d306aa8d",
   "metadata": {},
   "outputs": [],
   "source": [
    "train_df = train_df.apply(lambda x : x/np.max(x), axis=0)"
   ]
  },
  {
   "cell_type": "code",
   "execution_count": 63,
   "id": "545eaf4c",
   "metadata": {},
   "outputs": [
    {
     "data": {
      "text/html": [
       "<div>\n",
       "<style scoped>\n",
       "    .dataframe tbody tr th:only-of-type {\n",
       "        vertical-align: middle;\n",
       "    }\n",
       "\n",
       "    .dataframe tbody tr th {\n",
       "        vertical-align: top;\n",
       "    }\n",
       "\n",
       "    .dataframe thead th {\n",
       "        text-align: right;\n",
       "    }\n",
       "</style>\n",
       "<table border=\"1\" class=\"dataframe\">\n",
       "  <thead>\n",
       "    <tr style=\"text-align: right;\">\n",
       "      <th></th>\n",
       "      <th>Id</th>\n",
       "      <th>Gender</th>\n",
       "      <th>Customer_Type</th>\n",
       "      <th>Age</th>\n",
       "      <th>Type_Of_Travel</th>\n",
       "      <th>Class</th>\n",
       "      <th>Flight_Distance</th>\n",
       "      <th>Inflight_Wifi_Service</th>\n",
       "      <th>Departure/Arrival_Time_Convenient</th>\n",
       "      <th>Ease_Of_Online_Booking</th>\n",
       "      <th>...</th>\n",
       "      <th>Inflight_Entertainment</th>\n",
       "      <th>On-Board_Service</th>\n",
       "      <th>Leg_Room_Service</th>\n",
       "      <th>Baggage_Handling</th>\n",
       "      <th>Checkin_Service</th>\n",
       "      <th>Inflight_Service</th>\n",
       "      <th>Cleanliness</th>\n",
       "      <th>Departure_Delay_In_Minutes</th>\n",
       "      <th>Arrival_Delay_In_Minutes</th>\n",
       "      <th>Satisfaction</th>\n",
       "    </tr>\n",
       "    <tr>\n",
       "      <th>Index</th>\n",
       "      <th></th>\n",
       "      <th></th>\n",
       "      <th></th>\n",
       "      <th></th>\n",
       "      <th></th>\n",
       "      <th></th>\n",
       "      <th></th>\n",
       "      <th></th>\n",
       "      <th></th>\n",
       "      <th></th>\n",
       "      <th></th>\n",
       "      <th></th>\n",
       "      <th></th>\n",
       "      <th></th>\n",
       "      <th></th>\n",
       "      <th></th>\n",
       "      <th></th>\n",
       "      <th></th>\n",
       "      <th></th>\n",
       "      <th></th>\n",
       "      <th></th>\n",
       "    </tr>\n",
       "  </thead>\n",
       "  <tbody>\n",
       "    <tr>\n",
       "      <th>0</th>\n",
       "      <td>0.540283</td>\n",
       "      <td>0.0</td>\n",
       "      <td>0.0</td>\n",
       "      <td>0.152941</td>\n",
       "      <td>0.0</td>\n",
       "      <td>0.0</td>\n",
       "      <td>0.092314</td>\n",
       "      <td>0.6</td>\n",
       "      <td>0.8</td>\n",
       "      <td>0.6</td>\n",
       "      <td>...</td>\n",
       "      <td>1.0</td>\n",
       "      <td>0.8</td>\n",
       "      <td>0.6</td>\n",
       "      <td>0.8</td>\n",
       "      <td>0.8</td>\n",
       "      <td>1.0</td>\n",
       "      <td>1.0</td>\n",
       "      <td>0.015704</td>\n",
       "      <td>0.011364</td>\n",
       "      <td>0.0</td>\n",
       "    </tr>\n",
       "    <tr>\n",
       "      <th>1</th>\n",
       "      <td>0.038859</td>\n",
       "      <td>0.0</td>\n",
       "      <td>1.0</td>\n",
       "      <td>0.294118</td>\n",
       "      <td>1.0</td>\n",
       "      <td>0.5</td>\n",
       "      <td>0.047160</td>\n",
       "      <td>0.6</td>\n",
       "      <td>0.4</td>\n",
       "      <td>0.6</td>\n",
       "      <td>...</td>\n",
       "      <td>0.2</td>\n",
       "      <td>0.2</td>\n",
       "      <td>1.0</td>\n",
       "      <td>0.6</td>\n",
       "      <td>0.2</td>\n",
       "      <td>0.8</td>\n",
       "      <td>0.2</td>\n",
       "      <td>0.000628</td>\n",
       "      <td>0.003788</td>\n",
       "      <td>0.0</td>\n",
       "    </tr>\n",
       "    <tr>\n",
       "      <th>2</th>\n",
       "      <td>0.847151</td>\n",
       "      <td>1.0</td>\n",
       "      <td>0.0</td>\n",
       "      <td>0.305882</td>\n",
       "      <td>1.0</td>\n",
       "      <td>0.5</td>\n",
       "      <td>0.229179</td>\n",
       "      <td>0.4</td>\n",
       "      <td>0.4</td>\n",
       "      <td>0.4</td>\n",
       "      <td>...</td>\n",
       "      <td>1.0</td>\n",
       "      <td>0.8</td>\n",
       "      <td>0.6</td>\n",
       "      <td>0.8</td>\n",
       "      <td>0.8</td>\n",
       "      <td>0.8</td>\n",
       "      <td>1.0</td>\n",
       "      <td>0.000000</td>\n",
       "      <td>0.000000</td>\n",
       "      <td>1.0</td>\n",
       "    </tr>\n",
       "    <tr>\n",
       "      <th>3</th>\n",
       "      <td>0.184986</td>\n",
       "      <td>1.0</td>\n",
       "      <td>0.0</td>\n",
       "      <td>0.294118</td>\n",
       "      <td>1.0</td>\n",
       "      <td>0.5</td>\n",
       "      <td>0.112783</td>\n",
       "      <td>0.4</td>\n",
       "      <td>1.0</td>\n",
       "      <td>1.0</td>\n",
       "      <td>...</td>\n",
       "      <td>0.4</td>\n",
       "      <td>0.4</td>\n",
       "      <td>1.0</td>\n",
       "      <td>0.6</td>\n",
       "      <td>0.2</td>\n",
       "      <td>0.8</td>\n",
       "      <td>0.4</td>\n",
       "      <td>0.006910</td>\n",
       "      <td>0.005682</td>\n",
       "      <td>0.0</td>\n",
       "    </tr>\n",
       "    <tr>\n",
       "      <th>4</th>\n",
       "      <td>0.918532</td>\n",
       "      <td>0.0</td>\n",
       "      <td>0.0</td>\n",
       "      <td>0.717647</td>\n",
       "      <td>1.0</td>\n",
       "      <td>0.5</td>\n",
       "      <td>0.042946</td>\n",
       "      <td>0.6</td>\n",
       "      <td>0.6</td>\n",
       "      <td>0.6</td>\n",
       "      <td>...</td>\n",
       "      <td>0.6</td>\n",
       "      <td>0.6</td>\n",
       "      <td>0.8</td>\n",
       "      <td>0.8</td>\n",
       "      <td>0.6</td>\n",
       "      <td>0.6</td>\n",
       "      <td>0.6</td>\n",
       "      <td>0.000000</td>\n",
       "      <td>0.000000</td>\n",
       "      <td>1.0</td>\n",
       "    </tr>\n",
       "  </tbody>\n",
       "</table>\n",
       "<p>5 rows × 24 columns</p>\n",
       "</div>"
      ],
      "text/plain": [
       "             Id  Gender  Customer_Type       Age  Type_Of_Travel  Class  \\\n",
       "Index                                                                     \n",
       "0      0.540283     0.0            0.0  0.152941             0.0    0.0   \n",
       "1      0.038859     0.0            1.0  0.294118             1.0    0.5   \n",
       "2      0.847151     1.0            0.0  0.305882             1.0    0.5   \n",
       "3      0.184986     1.0            0.0  0.294118             1.0    0.5   \n",
       "4      0.918532     0.0            0.0  0.717647             1.0    0.5   \n",
       "\n",
       "       Flight_Distance  Inflight_Wifi_Service  \\\n",
       "Index                                           \n",
       "0             0.092314                    0.6   \n",
       "1             0.047160                    0.6   \n",
       "2             0.229179                    0.4   \n",
       "3             0.112783                    0.4   \n",
       "4             0.042946                    0.6   \n",
       "\n",
       "       Departure/Arrival_Time_Convenient  Ease_Of_Online_Booking  ...  \\\n",
       "Index                                                             ...   \n",
       "0                                    0.8                     0.6  ...   \n",
       "1                                    0.4                     0.6  ...   \n",
       "2                                    0.4                     0.4  ...   \n",
       "3                                    1.0                     1.0  ...   \n",
       "4                                    0.6                     0.6  ...   \n",
       "\n",
       "       Inflight_Entertainment  On-Board_Service  Leg_Room_Service  \\\n",
       "Index                                                               \n",
       "0                         1.0               0.8               0.6   \n",
       "1                         0.2               0.2               1.0   \n",
       "2                         1.0               0.8               0.6   \n",
       "3                         0.4               0.4               1.0   \n",
       "4                         0.6               0.6               0.8   \n",
       "\n",
       "       Baggage_Handling  Checkin_Service  Inflight_Service  Cleanliness  \\\n",
       "Index                                                                     \n",
       "0                   0.8              0.8               1.0          1.0   \n",
       "1                   0.6              0.2               0.8          0.2   \n",
       "2                   0.8              0.8               0.8          1.0   \n",
       "3                   0.6              0.2               0.8          0.4   \n",
       "4                   0.8              0.6               0.6          0.6   \n",
       "\n",
       "       Departure_Delay_In_Minutes  Arrival_Delay_In_Minutes  Satisfaction  \n",
       "Index                                                                      \n",
       "0                        0.015704                  0.011364           0.0  \n",
       "1                        0.000628                  0.003788           0.0  \n",
       "2                        0.000000                  0.000000           1.0  \n",
       "3                        0.006910                  0.005682           0.0  \n",
       "4                        0.000000                  0.000000           1.0  \n",
       "\n",
       "[5 rows x 24 columns]"
      ]
     },
     "execution_count": 63,
     "metadata": {},
     "output_type": "execute_result"
    }
   ],
   "source": [
    "train_df.head()"
   ]
  },
  {
   "cell_type": "code",
   "execution_count": 65,
   "id": "21abf743",
   "metadata": {},
   "outputs": [],
   "source": [
    "X = train_df.drop(\"Satisfaction\", axis=1)\n",
    "y = train_df[\"Satisfaction\"]"
   ]
  },
  {
   "cell_type": "code",
   "execution_count": 67,
   "id": "77682f17",
   "metadata": {},
   "outputs": [],
   "source": [
    "X = np.array(X)"
   ]
  },
  {
   "cell_type": "code",
   "execution_count": 69,
   "id": "c67af41b",
   "metadata": {},
   "outputs": [
    {
     "data": {
      "text/plain": [
       "array([[5.40283338e-01, 0.00000000e+00, 0.00000000e+00, ...,\n",
       "        1.00000000e+00, 1.57035176e-02, 1.13636364e-02],\n",
       "       [3.88589467e-02, 0.00000000e+00, 1.00000000e+00, ...,\n",
       "        2.00000000e-01, 6.28140704e-04, 3.78787879e-03],\n",
       "       [8.47151217e-01, 1.00000000e+00, 0.00000000e+00, ...,\n",
       "        1.00000000e+00, 0.00000000e+00, 0.00000000e+00],\n",
       "       ...,\n",
       "       [5.29912227e-01, 0.00000000e+00, 1.00000000e+00, ...,\n",
       "        8.00000000e-01, 4.39698492e-03, 8.83838384e-03],\n",
       "       [4.17100400e-01, 1.00000000e+00, 1.00000000e+00, ...,\n",
       "        2.00000000e-01, 0.00000000e+00, 0.00000000e+00],\n",
       "       [4.81729289e-01, 0.00000000e+00, 0.00000000e+00, ...,\n",
       "        2.00000000e-01, 0.00000000e+00, 0.00000000e+00]])"
      ]
     },
     "execution_count": 69,
     "metadata": {},
     "output_type": "execute_result"
    }
   ],
   "source": [
    "X"
   ]
  },
  {
   "cell_type": "code",
   "execution_count": 71,
   "id": "04a21603",
   "metadata": {},
   "outputs": [
    {
     "data": {
      "text/plain": [
       "2"
      ]
     },
     "execution_count": 71,
     "metadata": {},
     "output_type": "execute_result"
    }
   ],
   "source": [
    "X.ndim"
   ]
  },
  {
   "cell_type": "code",
   "execution_count": 73,
   "id": "dd58724e",
   "metadata": {},
   "outputs": [
    {
     "data": {
      "text/plain": [
       "array([0., 0., 1., ..., 0., 0., 0.])"
      ]
     },
     "execution_count": 73,
     "metadata": {},
     "output_type": "execute_result"
    }
   ],
   "source": [
    "y = np.array(y)\n",
    "y"
   ]
  },
  {
   "cell_type": "code",
   "execution_count": 75,
   "id": "92796be4",
   "metadata": {},
   "outputs": [],
   "source": [
    "split = int(0.9 * len(y))\n",
    "\n",
    "X_train, X_val = np.split(X, [split])\n",
    "y_train, y_val = np.split(y, [split])"
   ]
  },
  {
   "cell_type": "code",
   "execution_count": 77,
   "id": "e7bce398",
   "metadata": {},
   "outputs": [
    {
     "data": {
      "text/plain": [
       "(93513, 23)"
      ]
     },
     "metadata": {},
     "output_type": "display_data"
    },
    {
     "data": {
      "text/plain": [
       "(10391, 23)"
      ]
     },
     "metadata": {},
     "output_type": "display_data"
    },
    {
     "data": {
      "text/plain": [
       "(93513,)"
      ]
     },
     "metadata": {},
     "output_type": "display_data"
    },
    {
     "data": {
      "text/plain": [
       "(10391,)"
      ]
     },
     "metadata": {},
     "output_type": "display_data"
    }
   ],
   "source": [
    "display(X_train.shape, X_val.shape, y_train.shape, y_val.shape)"
   ]
  },
  {
   "cell_type": "markdown",
   "id": "b1cdbf3c-2961-48f0-a8f5-00f4eed2603d",
   "metadata": {},
   "source": [
    "## Activation Functions"
   ]
  },
  {
   "cell_type": "markdown",
   "id": "d647b620-2b1b-4294-984b-0dc5f7bb93cb",
   "metadata": {},
   "source": [
    "### Sigmoid Function\n",
    "\n",
    "Here we define the forward and backward pass for sigmoid"
   ]
  },
  {
   "cell_type": "code",
   "execution_count": 79,
   "id": "914abf22",
   "metadata": {},
   "outputs": [],
   "source": [
    "def sigmoid_forward(x):\n",
    "    sig_forward = 1/(1 + np.exp(-x))\n",
    "    \n",
    "    return sig_forward\n",
    "\n",
    "def sigmoid_backward(sig_forward):\n",
    "    sig_derivative = sig_forward * (1 - sig_forward)\n",
    "    \n",
    "    return sig_derivative"
   ]
  },
  {
   "cell_type": "markdown",
   "id": "9b086be8-8b21-4eda-9bb0-1fcf047f5103",
   "metadata": {},
   "source": [
    "### ReLu Function\n",
    "\n",
    "Here we define the forward and backward pass for relu"
   ]
  },
  {
   "cell_type": "code",
   "execution_count": 81,
   "id": "d3ad07de",
   "metadata": {},
   "outputs": [],
   "source": [
    "def relu_forward(x):\n",
    "    rel_forward = np.maximum(0, x)\n",
    "    \n",
    "    return rel_forward\n",
    "\n",
    "def relu_backward(x):\n",
    "    rel_derivative = np.where(x > 0, 1, 0)\n",
    "    \n",
    "    return rel_derivative"
   ]
  },
  {
   "cell_type": "markdown",
   "id": "4cd8f22d-1c5b-4487-91ac-bad93c71b322",
   "metadata": {},
   "source": [
    "### Softmax Function\n",
    "\n",
    "Here we define the forward and backward pass for softmax"
   ]
  },
  {
   "cell_type": "code",
   "execution_count": 90,
   "id": "f3991be2",
   "metadata": {},
   "outputs": [],
   "source": [
    "def softmax_forward(x):\n",
    "    exp_x_i = np.exp(x)\n",
    "    sum_exp_x_j = np.sum(exp_x_i)\n",
    "    soft_forward = exp_x_i/sum_exp_x_j\n",
    "    return soft_forward\n",
    "\n",
    "#def softmax_backward(x):"
   ]
  },
  {
   "cell_type": "code",
   "execution_count": 94,
   "id": "969f53c2-c69f-47ba-9474-35ba52a3ba87",
   "metadata": {},
   "outputs": [
    {
     "name": "stdout",
     "output_type": "stream",
     "text": [
      "[9.52269826e-01 4.74107229e-02 3.19450938e-04]\n"
     ]
    }
   ],
   "source": [
    "x = np.array([8, 5, 0])\n",
    "result = softmax_forward(x)\n",
    "\n",
    "print(result)"
   ]
  },
  {
   "cell_type": "code",
   "execution_count": null,
   "id": "8e97f014",
   "metadata": {},
   "outputs": [],
   "source": [
    "#load test data\n",
    "test_df = pd.read_csv(\"../Datasets/test.csv\")\n",
    "test_df.head()"
   ]
  },
  {
   "cell_type": "code",
   "execution_count": null,
   "id": "c3373ed1",
   "metadata": {},
   "outputs": [],
   "source": [
    "#inspect shape of test data\n",
    "test_df.shape\n",
    "print(f\"The test data contains {test_df.shape[0]} rows and {test_df.shape[1]} columns.\")"
   ]
  },
  {
   "cell_type": "code",
   "execution_count": null,
   "id": "9d3fdf59",
   "metadata": {},
   "outputs": [],
   "source": [
    "#display info\n",
    "test_df.info()"
   ]
  },
  {
   "cell_type": "code",
   "execution_count": null,
   "id": "e9004660",
   "metadata": {},
   "outputs": [],
   "source": [
    "#get missing values in test data\n",
    "test_df.isna().sum()"
   ]
  },
  {
   "cell_type": "code",
   "execution_count": null,
   "id": "ceecb3a8",
   "metadata": {},
   "outputs": [],
   "source": [
    "#view column with missing values\n",
    "test_df[\"Arrival Delay in Minutes\"].sample(6)"
   ]
  },
  {
   "cell_type": "code",
   "execution_count": null,
   "id": "aa8509a1",
   "metadata": {},
   "outputs": [],
   "source": [
    "#fill missing values in column with the mean\n",
    "test_df[\"Arrival Delay in Minutes\"] = test_df[\"Arrival Delay in Minutes\"].fillna(test_df[\"Arrival Delay in Minutes\"].mean())"
   ]
  },
  {
   "cell_type": "code",
   "execution_count": null,
   "id": "d0930cf9",
   "metadata": {},
   "outputs": [],
   "source": [
    "#confirm missing values have been filled\n",
    "test_df.isnull().sum().sum()"
   ]
  },
  {
   "cell_type": "code",
   "execution_count": null,
   "id": "4264d7c6",
   "metadata": {},
   "outputs": [],
   "source": [
    "test_df.columns"
   ]
  },
  {
   "cell_type": "code",
   "execution_count": null,
   "id": "f2f75923",
   "metadata": {},
   "outputs": [],
   "source": []
  }
 ],
 "metadata": {
  "kernelspec": {
   "display_name": "Python 3 (ipykernel)",
   "language": "python",
   "name": "python3"
  },
  "language_info": {
   "codemirror_mode": {
    "name": "ipython",
    "version": 3
   },
   "file_extension": ".py",
   "mimetype": "text/x-python",
   "name": "python",
   "nbconvert_exporter": "python",
   "pygments_lexer": "ipython3",
   "version": "3.12.3"
  }
 },
 "nbformat": 4,
 "nbformat_minor": 5
}
